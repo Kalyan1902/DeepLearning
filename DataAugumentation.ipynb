{
 "cells": [
  {
   "cell_type": "code",
   "execution_count": 16,
   "id": "6a3f76d2",
   "metadata": {},
   "outputs": [],
   "source": [
    "import os\n",
    "from keras.preprocessing.image import ImageDataGenerator,array_to_img,img_to_array,load_img\n",
    "datagen =ImageDataGenerator(\n",
    "          rotation_range=40,\n",
    "          width_shift_range =0.2,\n",
    "          height_shift_range =0.2,\n",
    "          shear_range =0.2,\n",
    "          zoom_range =0.2,\n",
    "          horizontal_flip =True,\n",
    "          fill_mode='nearest')\n",
    "image=load_img(\"Augmentimage.jpg\")\n",
    "x=img_to_array(image)\n",
    "x = x.reshape((1,)+x.shape)\n",
    "save_to_dir ='Augment'\n",
    "if not os.path.exists(save_to_dir):\n",
    "        os.makedirs(save_to_dir)\n",
    "i=0\n",
    "for batch in datagen.flow(x,batch_size=1,save_to_dir ='Augment',save_prefix ='Ram',save_format='jpeg'):\n",
    "    i+=1\n",
    "    if i>20:\n",
    "        break"
   ]
  },
  {
   "cell_type": "code",
   "execution_count": null,
   "id": "d36bbc5c",
   "metadata": {},
   "outputs": [],
   "source": []
  }
 ],
 "metadata": {
  "kernelspec": {
   "display_name": "Python 3 (ipykernel)",
   "language": "python",
   "name": "python3"
  },
  "language_info": {
   "codemirror_mode": {
    "name": "ipython",
    "version": 3
   },
   "file_extension": ".py",
   "mimetype": "text/x-python",
   "name": "python",
   "nbconvert_exporter": "python",
   "pygments_lexer": "ipython3",
   "version": "3.11.5"
  }
 },
 "nbformat": 4,
 "nbformat_minor": 5
}
