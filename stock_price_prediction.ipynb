{
  "nbformat": 4,
  "nbformat_minor": 0,
  "metadata": {
    "colab": {
      "provenance": [],
      "authorship_tag": "ABX9TyNJWG1vHrK8QiTGuCi7J76E",
      "include_colab_link": true
    },
    "kernelspec": {
      "name": "python3",
      "display_name": "Python 3"
    },
    "language_info": {
      "name": "python"
    }
  },
  "cells": [
    {
      "cell_type": "markdown",
      "metadata": {
        "id": "view-in-github",
        "colab_type": "text"
      },
      "source": [
        "<a href=\"https://colab.research.google.com/github/Kalyan1902/DeepLearning/blob/main/stock_price_prediction.ipynb\" target=\"_parent\"><img src=\"https://colab.research.google.com/assets/colab-badge.svg\" alt=\"Open In Colab\"/></a>"
      ]
    },
    {
      "cell_type": "code",
      "source": [
        "import tensorflow\n",
        "from tensorflow import keras\n",
        "import pandas as pd\n",
        "import numpy as np\n",
        "from subprocess import check_output\n",
        "from tensorflow.keras.layers import Dense, Activation, Dropout\n",
        "from keras.layers import LSTM\n",
        "from keras.models import Sequential\n",
        "from sklearn.model_selection import train_test_split\n",
        "import time\n",
        "from sklearn.preprocessing import MinMaxScaler\n",
        "import matplotlib.pyplot as plt\n",
        "from numpy import newaxis"
      ],
      "metadata": {
        "id": "_4gVu_fXZp62"
      },
      "execution_count": 37,
      "outputs": []
    },
    {
      "cell_type": "code",
      "execution_count": 38,
      "metadata": {
        "id": "p8UfMxBiVL9m"
      },
      "outputs": [],
      "source": [
        "import pandas_datareader as pdr\n",
        "key ='e999527d80479cdc0eba767298a4bb047e328ccb'\n"
      ]
    },
    {
      "cell_type": "code",
      "source": [
        "df = pdr.get_data_tiingo('AMZN',api_key =key)\n",
        "df.to_csv('AMZN.csv')\n",
        "df.head()"
      ],
      "metadata": {
        "colab": {
          "base_uri": "https://localhost:8080/",
          "height": 272
        },
        "id": "1FQBWLeVY3km",
        "outputId": "5ecf9841-6f5a-4dd4-fe40-08cb64aae836"
      },
      "execution_count": 39,
      "outputs": [
        {
          "output_type": "stream",
          "name": "stderr",
          "text": [
            "<ipython-input-39-52a17115a986>:1: FutureWarning: In a future version of pandas all arguments of concat except for the argument 'objs' will be keyword-only.\n",
            "  df = pdr.get_data_tiingo('AMZN',api_key =key)\n"
          ]
        },
        {
          "output_type": "execute_result",
          "data": {
            "text/plain": [
              "                                    close     high      low     open   volume  \\\n",
              "symbol date                                                                     \n",
              "AMZN   2019-03-07 00:00:00+00:00  1625.95  1669.75  1620.51  1667.37  4957017   \n",
              "       2019-03-08 00:00:00+00:00  1620.80  1622.72  1586.57  1604.01  4667014   \n",
              "       2019-03-11 00:00:00+00:00  1670.62  1672.29  1626.01  1626.12  3876352   \n",
              "       2019-03-12 00:00:00+00:00  1673.10  1684.27  1660.98  1669.00  3614498   \n",
              "       2019-03-13 00:00:00+00:00  1690.81  1700.00  1679.35  1683.00  3552041   \n",
              "\n",
              "                                  adjClose  adjHigh   adjLow  adjOpen  \\\n",
              "symbol date                                                             \n",
              "AMZN   2019-03-07 00:00:00+00:00   81.2975  83.4875  81.0255  83.3685   \n",
              "       2019-03-08 00:00:00+00:00   81.0400  81.1360  79.3285  80.2005   \n",
              "       2019-03-11 00:00:00+00:00   83.5310  83.6145  81.3005  81.3060   \n",
              "       2019-03-12 00:00:00+00:00   83.6550  84.2135  83.0490  83.4500   \n",
              "       2019-03-13 00:00:00+00:00   84.5405  85.0000  83.9675  84.1500   \n",
              "\n",
              "                                  adjVolume  divCash  splitFactor  \n",
              "symbol date                                                        \n",
              "AMZN   2019-03-07 00:00:00+00:00   99140340      0.0          1.0  \n",
              "       2019-03-08 00:00:00+00:00   93340280      0.0          1.0  \n",
              "       2019-03-11 00:00:00+00:00   77527040      0.0          1.0  \n",
              "       2019-03-12 00:00:00+00:00   72289960      0.0          1.0  \n",
              "       2019-03-13 00:00:00+00:00   71040820      0.0          1.0  "
            ],
            "text/html": [
              "\n",
              "  <div id=\"df-2b84fdad-ce61-495b-8b3b-dcc50ebe74b8\" class=\"colab-df-container\">\n",
              "    <div>\n",
              "<style scoped>\n",
              "    .dataframe tbody tr th:only-of-type {\n",
              "        vertical-align: middle;\n",
              "    }\n",
              "\n",
              "    .dataframe tbody tr th {\n",
              "        vertical-align: top;\n",
              "    }\n",
              "\n",
              "    .dataframe thead th {\n",
              "        text-align: right;\n",
              "    }\n",
              "</style>\n",
              "<table border=\"1\" class=\"dataframe\">\n",
              "  <thead>\n",
              "    <tr style=\"text-align: right;\">\n",
              "      <th></th>\n",
              "      <th></th>\n",
              "      <th>close</th>\n",
              "      <th>high</th>\n",
              "      <th>low</th>\n",
              "      <th>open</th>\n",
              "      <th>volume</th>\n",
              "      <th>adjClose</th>\n",
              "      <th>adjHigh</th>\n",
              "      <th>adjLow</th>\n",
              "      <th>adjOpen</th>\n",
              "      <th>adjVolume</th>\n",
              "      <th>divCash</th>\n",
              "      <th>splitFactor</th>\n",
              "    </tr>\n",
              "    <tr>\n",
              "      <th>symbol</th>\n",
              "      <th>date</th>\n",
              "      <th></th>\n",
              "      <th></th>\n",
              "      <th></th>\n",
              "      <th></th>\n",
              "      <th></th>\n",
              "      <th></th>\n",
              "      <th></th>\n",
              "      <th></th>\n",
              "      <th></th>\n",
              "      <th></th>\n",
              "      <th></th>\n",
              "      <th></th>\n",
              "    </tr>\n",
              "  </thead>\n",
              "  <tbody>\n",
              "    <tr>\n",
              "      <th rowspan=\"5\" valign=\"top\">AMZN</th>\n",
              "      <th>2019-03-07 00:00:00+00:00</th>\n",
              "      <td>1625.95</td>\n",
              "      <td>1669.75</td>\n",
              "      <td>1620.51</td>\n",
              "      <td>1667.37</td>\n",
              "      <td>4957017</td>\n",
              "      <td>81.2975</td>\n",
              "      <td>83.4875</td>\n",
              "      <td>81.0255</td>\n",
              "      <td>83.3685</td>\n",
              "      <td>99140340</td>\n",
              "      <td>0.0</td>\n",
              "      <td>1.0</td>\n",
              "    </tr>\n",
              "    <tr>\n",
              "      <th>2019-03-08 00:00:00+00:00</th>\n",
              "      <td>1620.80</td>\n",
              "      <td>1622.72</td>\n",
              "      <td>1586.57</td>\n",
              "      <td>1604.01</td>\n",
              "      <td>4667014</td>\n",
              "      <td>81.0400</td>\n",
              "      <td>81.1360</td>\n",
              "      <td>79.3285</td>\n",
              "      <td>80.2005</td>\n",
              "      <td>93340280</td>\n",
              "      <td>0.0</td>\n",
              "      <td>1.0</td>\n",
              "    </tr>\n",
              "    <tr>\n",
              "      <th>2019-03-11 00:00:00+00:00</th>\n",
              "      <td>1670.62</td>\n",
              "      <td>1672.29</td>\n",
              "      <td>1626.01</td>\n",
              "      <td>1626.12</td>\n",
              "      <td>3876352</td>\n",
              "      <td>83.5310</td>\n",
              "      <td>83.6145</td>\n",
              "      <td>81.3005</td>\n",
              "      <td>81.3060</td>\n",
              "      <td>77527040</td>\n",
              "      <td>0.0</td>\n",
              "      <td>1.0</td>\n",
              "    </tr>\n",
              "    <tr>\n",
              "      <th>2019-03-12 00:00:00+00:00</th>\n",
              "      <td>1673.10</td>\n",
              "      <td>1684.27</td>\n",
              "      <td>1660.98</td>\n",
              "      <td>1669.00</td>\n",
              "      <td>3614498</td>\n",
              "      <td>83.6550</td>\n",
              "      <td>84.2135</td>\n",
              "      <td>83.0490</td>\n",
              "      <td>83.4500</td>\n",
              "      <td>72289960</td>\n",
              "      <td>0.0</td>\n",
              "      <td>1.0</td>\n",
              "    </tr>\n",
              "    <tr>\n",
              "      <th>2019-03-13 00:00:00+00:00</th>\n",
              "      <td>1690.81</td>\n",
              "      <td>1700.00</td>\n",
              "      <td>1679.35</td>\n",
              "      <td>1683.00</td>\n",
              "      <td>3552041</td>\n",
              "      <td>84.5405</td>\n",
              "      <td>85.0000</td>\n",
              "      <td>83.9675</td>\n",
              "      <td>84.1500</td>\n",
              "      <td>71040820</td>\n",
              "      <td>0.0</td>\n",
              "      <td>1.0</td>\n",
              "    </tr>\n",
              "  </tbody>\n",
              "</table>\n",
              "</div>\n",
              "    <div class=\"colab-df-buttons\">\n",
              "\n",
              "  <div class=\"colab-df-container\">\n",
              "    <button class=\"colab-df-convert\" onclick=\"convertToInteractive('df-2b84fdad-ce61-495b-8b3b-dcc50ebe74b8')\"\n",
              "            title=\"Convert this dataframe to an interactive table.\"\n",
              "            style=\"display:none;\">\n",
              "\n",
              "  <svg xmlns=\"http://www.w3.org/2000/svg\" height=\"24px\" viewBox=\"0 -960 960 960\">\n",
              "    <path d=\"M120-120v-720h720v720H120Zm60-500h600v-160H180v160Zm220 220h160v-160H400v160Zm0 220h160v-160H400v160ZM180-400h160v-160H180v160Zm440 0h160v-160H620v160ZM180-180h160v-160H180v160Zm440 0h160v-160H620v160Z\"/>\n",
              "  </svg>\n",
              "    </button>\n",
              "\n",
              "  <style>\n",
              "    .colab-df-container {\n",
              "      display:flex;\n",
              "      gap: 12px;\n",
              "    }\n",
              "\n",
              "    .colab-df-convert {\n",
              "      background-color: #E8F0FE;\n",
              "      border: none;\n",
              "      border-radius: 50%;\n",
              "      cursor: pointer;\n",
              "      display: none;\n",
              "      fill: #1967D2;\n",
              "      height: 32px;\n",
              "      padding: 0 0 0 0;\n",
              "      width: 32px;\n",
              "    }\n",
              "\n",
              "    .colab-df-convert:hover {\n",
              "      background-color: #E2EBFA;\n",
              "      box-shadow: 0px 1px 2px rgba(60, 64, 67, 0.3), 0px 1px 3px 1px rgba(60, 64, 67, 0.15);\n",
              "      fill: #174EA6;\n",
              "    }\n",
              "\n",
              "    .colab-df-buttons div {\n",
              "      margin-bottom: 4px;\n",
              "    }\n",
              "\n",
              "    [theme=dark] .colab-df-convert {\n",
              "      background-color: #3B4455;\n",
              "      fill: #D2E3FC;\n",
              "    }\n",
              "\n",
              "    [theme=dark] .colab-df-convert:hover {\n",
              "      background-color: #434B5C;\n",
              "      box-shadow: 0px 1px 3px 1px rgba(0, 0, 0, 0.15);\n",
              "      filter: drop-shadow(0px 1px 2px rgba(0, 0, 0, 0.3));\n",
              "      fill: #FFFFFF;\n",
              "    }\n",
              "  </style>\n",
              "\n",
              "    <script>\n",
              "      const buttonEl =\n",
              "        document.querySelector('#df-2b84fdad-ce61-495b-8b3b-dcc50ebe74b8 button.colab-df-convert');\n",
              "      buttonEl.style.display =\n",
              "        google.colab.kernel.accessAllowed ? 'block' : 'none';\n",
              "\n",
              "      async function convertToInteractive(key) {\n",
              "        const element = document.querySelector('#df-2b84fdad-ce61-495b-8b3b-dcc50ebe74b8');\n",
              "        const dataTable =\n",
              "          await google.colab.kernel.invokeFunction('convertToInteractive',\n",
              "                                                    [key], {});\n",
              "        if (!dataTable) return;\n",
              "\n",
              "        const docLinkHtml = 'Like what you see? Visit the ' +\n",
              "          '<a target=\"_blank\" href=https://colab.research.google.com/notebooks/data_table.ipynb>data table notebook</a>'\n",
              "          + ' to learn more about interactive tables.';\n",
              "        element.innerHTML = '';\n",
              "        dataTable['output_type'] = 'display_data';\n",
              "        await google.colab.output.renderOutput(dataTable, element);\n",
              "        const docLink = document.createElement('div');\n",
              "        docLink.innerHTML = docLinkHtml;\n",
              "        element.appendChild(docLink);\n",
              "      }\n",
              "    </script>\n",
              "  </div>\n",
              "\n",
              "\n",
              "<div id=\"df-a16e3017-a83f-46a5-9553-ac6b8e9fed0f\">\n",
              "  <button class=\"colab-df-quickchart\" onclick=\"quickchart('df-a16e3017-a83f-46a5-9553-ac6b8e9fed0f')\"\n",
              "            title=\"Suggest charts\"\n",
              "            style=\"display:none;\">\n",
              "\n",
              "<svg xmlns=\"http://www.w3.org/2000/svg\" height=\"24px\"viewBox=\"0 0 24 24\"\n",
              "     width=\"24px\">\n",
              "    <g>\n",
              "        <path d=\"M19 3H5c-1.1 0-2 .9-2 2v14c0 1.1.9 2 2 2h14c1.1 0 2-.9 2-2V5c0-1.1-.9-2-2-2zM9 17H7v-7h2v7zm4 0h-2V7h2v10zm4 0h-2v-4h2v4z\"/>\n",
              "    </g>\n",
              "</svg>\n",
              "  </button>\n",
              "\n",
              "<style>\n",
              "  .colab-df-quickchart {\n",
              "      --bg-color: #E8F0FE;\n",
              "      --fill-color: #1967D2;\n",
              "      --hover-bg-color: #E2EBFA;\n",
              "      --hover-fill-color: #174EA6;\n",
              "      --disabled-fill-color: #AAA;\n",
              "      --disabled-bg-color: #DDD;\n",
              "  }\n",
              "\n",
              "  [theme=dark] .colab-df-quickchart {\n",
              "      --bg-color: #3B4455;\n",
              "      --fill-color: #D2E3FC;\n",
              "      --hover-bg-color: #434B5C;\n",
              "      --hover-fill-color: #FFFFFF;\n",
              "      --disabled-bg-color: #3B4455;\n",
              "      --disabled-fill-color: #666;\n",
              "  }\n",
              "\n",
              "  .colab-df-quickchart {\n",
              "    background-color: var(--bg-color);\n",
              "    border: none;\n",
              "    border-radius: 50%;\n",
              "    cursor: pointer;\n",
              "    display: none;\n",
              "    fill: var(--fill-color);\n",
              "    height: 32px;\n",
              "    padding: 0;\n",
              "    width: 32px;\n",
              "  }\n",
              "\n",
              "  .colab-df-quickchart:hover {\n",
              "    background-color: var(--hover-bg-color);\n",
              "    box-shadow: 0 1px 2px rgba(60, 64, 67, 0.3), 0 1px 3px 1px rgba(60, 64, 67, 0.15);\n",
              "    fill: var(--button-hover-fill-color);\n",
              "  }\n",
              "\n",
              "  .colab-df-quickchart-complete:disabled,\n",
              "  .colab-df-quickchart-complete:disabled:hover {\n",
              "    background-color: var(--disabled-bg-color);\n",
              "    fill: var(--disabled-fill-color);\n",
              "    box-shadow: none;\n",
              "  }\n",
              "\n",
              "  .colab-df-spinner {\n",
              "    border: 2px solid var(--fill-color);\n",
              "    border-color: transparent;\n",
              "    border-bottom-color: var(--fill-color);\n",
              "    animation:\n",
              "      spin 1s steps(1) infinite;\n",
              "  }\n",
              "\n",
              "  @keyframes spin {\n",
              "    0% {\n",
              "      border-color: transparent;\n",
              "      border-bottom-color: var(--fill-color);\n",
              "      border-left-color: var(--fill-color);\n",
              "    }\n",
              "    20% {\n",
              "      border-color: transparent;\n",
              "      border-left-color: var(--fill-color);\n",
              "      border-top-color: var(--fill-color);\n",
              "    }\n",
              "    30% {\n",
              "      border-color: transparent;\n",
              "      border-left-color: var(--fill-color);\n",
              "      border-top-color: var(--fill-color);\n",
              "      border-right-color: var(--fill-color);\n",
              "    }\n",
              "    40% {\n",
              "      border-color: transparent;\n",
              "      border-right-color: var(--fill-color);\n",
              "      border-top-color: var(--fill-color);\n",
              "    }\n",
              "    60% {\n",
              "      border-color: transparent;\n",
              "      border-right-color: var(--fill-color);\n",
              "    }\n",
              "    80% {\n",
              "      border-color: transparent;\n",
              "      border-right-color: var(--fill-color);\n",
              "      border-bottom-color: var(--fill-color);\n",
              "    }\n",
              "    90% {\n",
              "      border-color: transparent;\n",
              "      border-bottom-color: var(--fill-color);\n",
              "    }\n",
              "  }\n",
              "</style>\n",
              "\n",
              "  <script>\n",
              "    async function quickchart(key) {\n",
              "      const quickchartButtonEl =\n",
              "        document.querySelector('#' + key + ' button');\n",
              "      quickchartButtonEl.disabled = true;  // To prevent multiple clicks.\n",
              "      quickchartButtonEl.classList.add('colab-df-spinner');\n",
              "      try {\n",
              "        const charts = await google.colab.kernel.invokeFunction(\n",
              "            'suggestCharts', [key], {});\n",
              "      } catch (error) {\n",
              "        console.error('Error during call to suggestCharts:', error);\n",
              "      }\n",
              "      quickchartButtonEl.classList.remove('colab-df-spinner');\n",
              "      quickchartButtonEl.classList.add('colab-df-quickchart-complete');\n",
              "    }\n",
              "    (() => {\n",
              "      let quickchartButtonEl =\n",
              "        document.querySelector('#df-a16e3017-a83f-46a5-9553-ac6b8e9fed0f button');\n",
              "      quickchartButtonEl.style.display =\n",
              "        google.colab.kernel.accessAllowed ? 'block' : 'none';\n",
              "    })();\n",
              "  </script>\n",
              "</div>\n",
              "\n",
              "    </div>\n",
              "  </div>\n"
            ],
            "application/vnd.google.colaboratory.intrinsic+json": {
              "type": "dataframe",
              "variable_name": "df",
              "summary": "{\n  \"name\": \"df\",\n  \"rows\": 1257,\n  \"fields\": [\n    {\n      \"column\": \"close\",\n      \"properties\": {\n        \"dtype\": \"number\",\n        \"std\": 1339.8058606687102,\n        \"min\": 81.82,\n        \"max\": 3731.41,\n        \"num_unique_values\": 1233,\n        \"samples\": [\n          3225.0,\n          3151.94,\n          2146.38\n        ],\n        \"semantic_type\": \"\",\n        \"description\": \"\"\n      }\n    },\n    {\n      \"column\": \"high\",\n      \"properties\": {\n        \"dtype\": \"number\",\n        \"std\": 1356.3708687108897,\n        \"min\": 83.48,\n        \"max\": 3773.0782,\n        \"num_unique_values\": 1233,\n        \"samples\": [\n          3240.81,\n          3228.86,\n          2253.3099\n        ],\n        \"semantic_type\": \"\",\n        \"description\": \"\"\n      }\n    },\n    {\n      \"column\": \"low\",\n      \"properties\": {\n        \"dtype\": \"number\",\n        \"std\": 1323.9183608469446,\n        \"min\": 81.43,\n        \"max\": 3696.7929,\n        \"num_unique_values\": 1232,\n        \"samples\": [\n          3197.01,\n          119.93,\n          1870.0\n        ],\n        \"semantic_type\": \"\",\n        \"description\": \"\"\n      }\n    },\n    {\n      \"column\": \"open\",\n      \"properties\": {\n        \"dtype\": \"number\",\n        \"std\": 1341.2290486174709,\n        \"min\": 82.8,\n        \"max\": 3744.0,\n        \"num_unique_values\": 1214,\n        \"samples\": [\n          3222.415,\n          2433.68,\n          1900.0\n        ],\n        \"semantic_type\": \"\",\n        \"description\": \"\"\n      }\n    },\n    {\n      \"column\": \"volume\",\n      \"properties\": {\n        \"dtype\": \"number\",\n        \"std\": 30977446,\n        \"min\": 881337,\n        \"max\": 223133398,\n        \"num_unique_values\": 1257,\n        \"samples\": [\n          3570889,\n          4470727,\n          3798198\n        ],\n        \"semantic_type\": \"\",\n        \"description\": \"\"\n      }\n    },\n    {\n      \"column\": \"adjClose\",\n      \"properties\": {\n        \"dtype\": \"number\",\n        \"std\": 30.647219306123333,\n        \"min\": 81.04,\n        \"max\": 186.5705,\n        \"num_unique_values\": 1230,\n        \"samples\": [\n          163.5195,\n          170.661,\n          94.215\n        ],\n        \"semantic_type\": \"\",\n        \"description\": \"\"\n      }\n    },\n    {\n      \"column\": \"adjHigh\",\n      \"properties\": {\n        \"dtype\": \"number\",\n        \"std\": 30.975563023708943,\n        \"min\": 81.136,\n        \"max\": 188.65391,\n        \"num_unique_values\": 1226,\n        \"samples\": [\n          181.8975,\n          150.9,\n          94.58\n        ],\n        \"semantic_type\": \"\",\n        \"description\": \"\"\n      }\n    },\n    {\n      \"column\": \"adjLow\",\n      \"properties\": {\n        \"dtype\": \"number\",\n        \"std\": 30.379442193375244,\n        \"min\": 79.3285,\n        \"max\": 184.839645,\n        \"num_unique_values\": 1224,\n        \"samples\": [\n          164.1775,\n          90.767,\n          88.25\n        ],\n        \"semantic_type\": \"\",\n        \"description\": \"\"\n      }\n    },\n    {\n      \"column\": \"adjOpen\",\n      \"properties\": {\n        \"dtype\": \"number\",\n        \"std\": 30.71025761264402,\n        \"min\": 80.2005,\n        \"max\": 187.2,\n        \"num_unique_values\": 1203,\n        \"samples\": [\n          147.06,\n          160.424,\n          95.455\n        ],\n        \"semantic_type\": \"\",\n        \"description\": \"\"\n      }\n    },\n    {\n      \"column\": \"adjVolume\",\n      \"properties\": {\n        \"dtype\": \"number\",\n        \"std\": 32562028,\n        \"min\": 17626740,\n        \"max\": 311345660,\n        \"num_unique_values\": 1257,\n        \"samples\": [\n          71417780,\n          89414540,\n          75963960\n        ],\n        \"semantic_type\": \"\",\n        \"description\": \"\"\n      }\n    },\n    {\n      \"column\": \"divCash\",\n      \"properties\": {\n        \"dtype\": \"number\",\n        \"std\": 0.0,\n        \"min\": 0.0,\n        \"max\": 0.0,\n        \"num_unique_values\": 1,\n        \"samples\": [\n          0.0\n        ],\n        \"semantic_type\": \"\",\n        \"description\": \"\"\n      }\n    },\n    {\n      \"column\": \"splitFactor\",\n      \"properties\": {\n        \"dtype\": \"number\",\n        \"std\": 0.5359027209601923,\n        \"min\": 1.0,\n        \"max\": 20.0,\n        \"num_unique_values\": 2,\n        \"samples\": [\n          20.0\n        ],\n        \"semantic_type\": \"\",\n        \"description\": \"\"\n      }\n    }\n  ]\n}"
            }
          },
          "metadata": {},
          "execution_count": 39
        }
      ]
    },
    {
      "cell_type": "code",
      "source": [
        "df.shape"
      ],
      "metadata": {
        "colab": {
          "base_uri": "https://localhost:8080/"
        },
        "id": "dK-o7qwgx3bM",
        "outputId": "0508c0ce-4a16-4362-c3f4-76708854dbdf"
      },
      "execution_count": 40,
      "outputs": [
        {
          "output_type": "execute_result",
          "data": {
            "text/plain": [
              "(1257, 12)"
            ]
          },
          "metadata": {},
          "execution_count": 40
        }
      ]
    },
    {
      "cell_type": "code",
      "source": [
        "df1 = df.close.values.astype('float32')\n"
      ],
      "metadata": {
        "id": "j9AzPc7xZLNx"
      },
      "execution_count": 41,
      "outputs": []
    },
    {
      "cell_type": "code",
      "source": [
        "df1.shape"
      ],
      "metadata": {
        "colab": {
          "base_uri": "https://localhost:8080/"
        },
        "id": "B4CZPZJdw8kN",
        "outputId": "11ac4e7d-3167-49dd-a718-8ba28f531043"
      },
      "execution_count": 42,
      "outputs": [
        {
          "output_type": "execute_result",
          "data": {
            "text/plain": [
              "(1257,)"
            ]
          },
          "metadata": {},
          "execution_count": 42
        }
      ]
    },
    {
      "cell_type": "code",
      "source": [
        "df1 = df1.reshape(1257,1)\n",
        "df1.shape"
      ],
      "metadata": {
        "colab": {
          "base_uri": "https://localhost:8080/"
        },
        "id": "48JxQmPrykJs",
        "outputId": "deb678f8-db31-4eff-991f-e2761a1c7639"
      },
      "execution_count": 43,
      "outputs": [
        {
          "output_type": "execute_result",
          "data": {
            "text/plain": [
              "(1257, 1)"
            ]
          },
          "metadata": {},
          "execution_count": 43
        }
      ]
    },
    {
      "cell_type": "code",
      "source": [
        "\n",
        "plt.plot(df1)\n",
        "plt.show()\n"
      ],
      "metadata": {
        "colab": {
          "base_uri": "https://localhost:8080/",
          "height": 430
        },
        "id": "gGAbLoozyuEE",
        "outputId": "8e78b00b-1cd5-41ed-a15a-e11d50ac5515"
      },
      "execution_count": 44,
      "outputs": [
        {
          "output_type": "display_data",
          "data": {
            "text/plain": [
              "<Figure size 640x480 with 1 Axes>"
            ],
            "image/png": "[encoded data removed]"
          },
          "metadata": {}
        }
      ]
    },
    {
      "cell_type": "code",
      "source": [
        "scaler = MinMaxScaler(feature_range =(0,1))\n",
        "df1 = scaler.fit_transform(df1)\n",
        "plt.plot(df1)\n",
        "plt.show()"
      ],
      "metadata": {
        "colab": {
          "base_uri": "https://localhost:8080/",
          "height": 430
        },
        "id": "SUkvlcwjebzj",
        "outputId": "e8dbe595-b20a-4b1f-85e5-f4ea0916d813"
      },
      "execution_count": 45,
      "outputs": [
        {
          "output_type": "display_data",
          "data": {
            "text/plain": [
              "<Figure size 640x480 with 1 Axes>"
            ],
            "image/png": "[encoded data removed]"
          },
          "metadata": {}
        }
      ]
    },
    {
      "cell_type": "code",
      "source": [
        "train_size = int(len(df1)*0.80)\n",
        "test_size = len(df1)-train_size\n",
        "train,test =df1[0:train_size],df1[train_size:len(df1),:]\n",
        "print(len(train),len(test))"
      ],
      "metadata": {
        "colab": {
          "base_uri": "https://localhost:8080/"
        },
        "id": "fhF_f914zPSD",
        "outputId": "8a195978-ea27-4af7-b961-c98505b6ecfd"
      },
      "execution_count": 46,
      "outputs": [
        {
          "output_type": "stream",
          "name": "stdout",
          "text": [
            "1005 252\n"
          ]
        }
      ]
    },
    {
      "cell_type": "code",
      "source": [
        "def create_dataset(dataset,look_back =1):\n",
        "  datax,datay =[],[]\n",
        "  for i in range(len(dataset)-look_back-1):\n",
        "    a = dataset[i:(i+look_back),0]\n",
        "    datax.append(a)\n",
        "    datay.append(dataset[i+look_back,0])\n",
        "  return np.array(datax),np.array(datay)"
      ],
      "metadata": {
        "id": "EqH22OoB1cHs"
      },
      "execution_count": 47,
      "outputs": []
    },
    {
      "cell_type": "code",
      "source": [
        "look_back =1\n",
        "trainx,trainy =create_dataset(train,look_back)\n",
        "testx,testy =create_dataset(test,look_back)"
      ],
      "metadata": {
        "id": "B7oL-DqBK6dT"
      },
      "execution_count": 48,
      "outputs": []
    },
    {
      "cell_type": "code",
      "source": [
        "trainX = np.reshape(trainx, (trainx.shape[0], 1, trainx.shape[1]))\n",
        "testX = np.reshape(testx, (testx.shape[0], 1, testx.shape[1]))"
      ],
      "metadata": {
        "id": "sXSU2M3HMHGe"
      },
      "execution_count": 49,
      "outputs": []
    },
    {
      "cell_type": "code",
      "source": [
        "from keras.models import Sequential\n",
        "from keras.layers import LSTM, Dropout, Dense, Activation\n",
        "\n",
        "model = Sequential()\n",
        "model.add(LSTM(units=50, return_sequences=True, input_shape=(trainX.shape[1], 1)))  # Assuming 1 feature\n",
        "model.add(Dropout(0.2))\n",
        "model.add(LSTM(units=100, return_sequences=False))\n",
        "model.add(Dropout(0.2))\n",
        "model.add(Dense(units=1))\n",
        "model.add(Activation('linear'))\n",
        "\n",
        "model.compile(loss='mse', optimizer='rmsprop')\n",
        "\n",
        "print('compilation time:',time.time()-start)"
      ],
      "metadata": {
        "colab": {
          "base_uri": "https://localhost:8080/"
        },
        "id": "MBWt3QytLQ3y",
        "outputId": "05d70809-bda9-418c-a420-7c178e0de646"
      },
      "execution_count": 50,
      "outputs": [
        {
          "output_type": "stream",
          "name": "stdout",
          "text": [
            "compilation time: 4502.829185724258\n"
          ]
        }
      ]
    },
    {
      "cell_type": "code",
      "source": [
        "model.fit(trainx,trainy,batch_size=128,epochs=50,validation_split =0.05)"
      ],
      "metadata": {
        "colab": {
          "base_uri": "https://localhost:8080/"
        },
        "id": "yaZtridINWMd",
        "outputId": "377359d5-0b3a-4b72-c663-b4b4d3e35446"
      },
      "execution_count": 51,
      "outputs": [
        {
          "output_type": "stream",
          "name": "stdout",
          "text": [
            "Epoch 1/50\n",
            "8/8 [==============================] - 6s 162ms/step - loss: 0.4142 - val_loss: 0.0047\n",
            "Epoch 2/50\n",
            "8/8 [==============================] - 0s 17ms/step - loss: 0.3119 - val_loss: 0.0171\n",
            "Epoch 3/50\n",
            "8/8 [==============================] - 0s 17ms/step - loss: 0.2191 - val_loss: 0.0402\n",
            "Epoch 4/50\n",
            "8/8 [==============================] - 0s 15ms/step - loss: 0.1368 - val_loss: 0.0746\n",
            "Epoch 5/50\n",
            "8/8 [==============================] - 0s 16ms/step - loss: 0.0772 - val_loss: 0.1135\n",
            "Epoch 6/50\n",
            "8/8 [==============================] - 0s 14ms/step - loss: 0.0484 - val_loss: 0.1449\n",
            "Epoch 7/50\n",
            "8/8 [==============================] - 0s 16ms/step - loss: 0.0389 - val_loss: 0.1568\n",
            "Epoch 8/50\n",
            "8/8 [==============================] - 0s 17ms/step - loss: 0.0348 - val_loss: 0.1373\n",
            "Epoch 9/50\n",
            "8/8 [==============================] - 0s 14ms/step - loss: 0.0310 - val_loss: 0.1205\n",
            "Epoch 10/50\n",
            "8/8 [==============================] - 0s 15ms/step - loss: 0.0273 - val_loss: 0.0993\n",
            "Epoch 11/50\n",
            "8/8 [==============================] - 0s 16ms/step - loss: 0.0225 - val_loss: 0.0765\n",
            "Epoch 12/50\n",
            "8/8 [==============================] - 0s 18ms/step - loss: 0.0176 - val_loss: 0.0598\n",
            "Epoch 13/50\n",
            "8/8 [==============================] - 0s 17ms/step - loss: 0.0139 - val_loss: 0.0342\n",
            "Epoch 14/50\n",
            "8/8 [==============================] - 0s 17ms/step - loss: 0.0102 - val_loss: 0.0258\n",
            "Epoch 15/50\n",
            "8/8 [==============================] - 0s 16ms/step - loss: 0.0079 - val_loss: 0.0115\n",
            "Epoch 16/50\n",
            "8/8 [==============================] - 0s 18ms/step - loss: 0.0068 - val_loss: 0.0055\n",
            "Epoch 17/50\n",
            "8/8 [==============================] - 0s 15ms/step - loss: 0.0051 - val_loss: 0.0021\n",
            "Epoch 18/50\n",
            "8/8 [==============================] - 0s 14ms/step - loss: 0.0048 - val_loss: 0.0014\n",
            "Epoch 19/50\n",
            "8/8 [==============================] - 0s 18ms/step - loss: 0.0050 - val_loss: 0.0011\n",
            "Epoch 20/50\n",
            "8/8 [==============================] - 0s 14ms/step - loss: 0.0052 - val_loss: 5.4861e-04\n",
            "Epoch 21/50\n",
            "8/8 [==============================] - 0s 15ms/step - loss: 0.0046 - val_loss: 7.9111e-04\n",
            "Epoch 22/50\n",
            "8/8 [==============================] - 0s 15ms/step - loss: 0.0047 - val_loss: 7.7104e-04\n",
            "Epoch 23/50\n",
            "8/8 [==============================] - 0s 15ms/step - loss: 0.0049 - val_loss: 4.8507e-05\n",
            "Epoch 24/50\n",
            "8/8 [==============================] - 0s 18ms/step - loss: 0.0045 - val_loss: 1.0059e-04\n",
            "Epoch 25/50\n",
            "8/8 [==============================] - 0s 14ms/step - loss: 0.0045 - val_loss: 2.7824e-04\n",
            "Epoch 26/50\n",
            "8/8 [==============================] - 0s 14ms/step - loss: 0.0049 - val_loss: 6.1209e-04\n",
            "Epoch 27/50\n",
            "8/8 [==============================] - 0s 14ms/step - loss: 0.0042 - val_loss: 6.8600e-04\n",
            "Epoch 28/50\n",
            "8/8 [==============================] - 0s 14ms/step - loss: 0.0041 - val_loss: 3.1860e-04\n",
            "Epoch 29/50\n",
            "8/8 [==============================] - 0s 16ms/step - loss: 0.0046 - val_loss: 2.9509e-05\n",
            "Epoch 30/50\n",
            "8/8 [==============================] - 0s 16ms/step - loss: 0.0042 - val_loss: 6.1690e-04\n",
            "Epoch 31/50\n",
            "8/8 [==============================] - 0s 15ms/step - loss: 0.0043 - val_loss: 1.3435e-04\n",
            "Epoch 32/50\n",
            "8/8 [==============================] - 0s 16ms/step - loss: 0.0039 - val_loss: 5.6239e-04\n",
            "Epoch 33/50\n",
            "8/8 [==============================] - 0s 14ms/step - loss: 0.0036 - val_loss: 5.8770e-04\n",
            "Epoch 34/50\n",
            "8/8 [==============================] - 0s 14ms/step - loss: 0.0041 - val_loss: 2.2086e-04\n",
            "Epoch 35/50\n",
            "8/8 [==============================] - 0s 14ms/step - loss: 0.0039 - val_loss: 1.4076e-04\n",
            "Epoch 36/50\n",
            "8/8 [==============================] - 0s 17ms/step - loss: 0.0038 - val_loss: 5.5447e-04\n",
            "Epoch 37/50\n",
            "8/8 [==============================] - 0s 15ms/step - loss: 0.0036 - val_loss: 1.9413e-04\n",
            "Epoch 38/50\n",
            "8/8 [==============================] - 0s 15ms/step - loss: 0.0039 - val_loss: 2.9130e-04\n",
            "Epoch 39/50\n",
            "8/8 [==============================] - 0s 14ms/step - loss: 0.0035 - val_loss: 1.5274e-04\n",
            "Epoch 40/50\n",
            "8/8 [==============================] - 0s 18ms/step - loss: 0.0037 - val_loss: 1.4904e-05\n",
            "Epoch 41/50\n",
            "8/8 [==============================] - 0s 19ms/step - loss: 0.0037 - val_loss: 2.9721e-04\n",
            "Epoch 42/50\n",
            "8/8 [==============================] - 0s 24ms/step - loss: 0.0037 - val_loss: 3.8517e-04\n",
            "Epoch 43/50\n",
            "8/8 [==============================] - 0s 25ms/step - loss: 0.0032 - val_loss: 5.1500e-04\n",
            "Epoch 44/50\n",
            "8/8 [==============================] - 0s 21ms/step - loss: 0.0032 - val_loss: 2.1338e-04\n",
            "Epoch 45/50\n",
            "8/8 [==============================] - 0s 23ms/step - loss: 0.0033 - val_loss: 3.5399e-04\n",
            "Epoch 46/50\n",
            "8/8 [==============================] - 0s 27ms/step - loss: 0.0037 - val_loss: 1.8589e-04\n",
            "Epoch 47/50\n",
            "8/8 [==============================] - 0s 23ms/step - loss: 0.0036 - val_loss: 2.3329e-04\n",
            "Epoch 48/50\n",
            "8/8 [==============================] - 0s 22ms/step - loss: 0.0032 - val_loss: 3.2208e-04\n",
            "Epoch 49/50\n",
            "8/8 [==============================] - 0s 27ms/step - loss: 0.0032 - val_loss: 2.8966e-04\n",
            "Epoch 50/50\n",
            "8/8 [==============================] - 0s 27ms/step - loss: 0.0030 - val_loss: 2.2604e-04\n"
          ]
        },
        {
          "output_type": "execute_result",
          "data": {
            "text/plain": [
              "<keras.src.callbacks.History at 0x7e58e108afe0>"
            ]
          },
          "metadata": {},
          "execution_count": 51
        }
      ]
    },
    {
      "cell_type": "code",
      "source": [
        "def plot_results_multiple(predicted_data, true_data,length):\n",
        "    plt.plot(scaler.inverse_transform(true_data.reshape(-1, 1))[length:])\n",
        "    plt.plot(scaler.inverse_transform(np.array(predicted_data).reshape(-1, 1))[length:])\n",
        "    plt.show()\n",
        "\n",
        "#predict lenght consecutive values from a real one\n",
        "def predict_sequences_multiple(model, firstValue,length):\n",
        "    prediction_seqs = []\n",
        "    curr_frame = firstValue\n",
        "\n",
        "    for i in range(length):\n",
        "        predicted = []\n",
        "\n",
        "        print(model.predict(curr_frame[newaxis,:,:]))\n",
        "        predicted.append(model.predict(curr_frame[newaxis,:,:])[0,0])\n",
        "\n",
        "        curr_frame = curr_frame[0:]\n",
        "        curr_frame = np.insert(curr_frame[0:], i+1, predicted[-1], axis=0)\n",
        "\n",
        "        prediction_seqs.append(predicted[-1])\n",
        "\n",
        "    return prediction_seqs\n",
        "\n",
        "predict_length=5\n",
        "predictions = predict_sequences_multiple(model, testX[0], predict_length)\n",
        "print(scaler.inverse_transform(np.array(predictions).reshape(-1, 1)))\n",
        "plot_results_multiple(predictions, testy, predict_length)"
      ],
      "metadata": {
        "colab": {
          "base_uri": "https://localhost:8080/",
          "height": 777
        },
        "id": "sm1rPFh7T6AH",
        "outputId": "97cc6fab-994d-4942-8222-83165a30db6c"
      },
      "execution_count": 52,
      "outputs": [
        {
          "output_type": "stream",
          "name": "stdout",
          "text": [
            "1/1 [==============================] - 1s 929ms/step\n",
            "[[0.01858875]]\n",
            "1/1 [==============================] - 0s 26ms/step\n",
            "1/1 [==============================] - 1s 922ms/step\n",
            "[[-0.14776641]]\n",
            "1/1 [==============================] - 0s 27ms/step\n",
            "1/1 [==============================] - 0s 26ms/step\n",
            "[[-0.5165942]]\n",
            "1/1 [==============================] - 0s 26ms/step\n",
            "1/1 [==============================] - 0s 31ms/step\n",
            "[[-1.2638338]]\n",
            "1/1 [==============================] - 0s 36ms/step\n",
            "1/1 [==============================] - 0s 29ms/step\n",
            "[[-2.572025]]\n",
            "1/1 [==============================] - 0s 29ms/step\n",
            "[[  149.66132]\n",
            " [ -457.46677]\n",
            " [-1803.5369 ]\n",
            " [-4530.655  ]\n",
            " [-9305.017  ]]\n"
          ]
        },
        {
          "output_type": "display_data",
          "data": {
            "text/plain": [
              "<Figure size 640x480 with 1 Axes>"
            ],
            "image/png": "[encoded data removed]"
          },
          "metadata": {}
        }
      ]
    },
    {
      "cell_type": "code",
      "source": [],
      "metadata": {
        "id": "d6yQ3dMYNrhW"
      },
      "execution_count": 52,
      "outputs": []
    },
    {
      "cell_type": "code",
      "source": [],
      "metadata": {
        "id": "7vZ0daSkSEPA"
      },
      "execution_count": 52,
      "outputs": []
    }
  ]
}