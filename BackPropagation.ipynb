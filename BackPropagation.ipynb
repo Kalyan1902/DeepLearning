{
  "nbformat": 4,
  "nbformat_minor": 0,
  "metadata": {
    "colab": {
      "provenance": [],
      "authorship_tag": "ABX9TyMWPyyXIVJJyUqN9FYNUUiG",
      "include_colab_link": true
    },
    "kernelspec": {
      "name": "python3",
      "display_name": "Python 3"
    },
    "language_info": {
      "name": "python"
    }
  },
  "cells": [
    {
      "cell_type": "markdown",
      "metadata": {
        "id": "view-in-github",
        "colab_type": "text"
      },
      "source": [
        "<a href=\"https://colab.research.google.com/github/Kalyan1902/DeepLearning/blob/main/BackPropagation.ipynb\" target=\"_parent\"><img src=\"https://colab.research.google.com/assets/colab-badge.svg\" alt=\"Open In Colab\"/></a>"
      ]
    },
    {
      "cell_type": "code",
      "source": [
        "# Import necessary libraries\n",
        "from math import exp\n",
        "from random import seed\n",
        "from random import random"
      ],
      "metadata": {
        "id": "F3DzTBc5kY2v"
      },
      "execution_count": null,
      "outputs": []
    },
    {
      "cell_type": "code",
      "execution_count": null,
      "metadata": {
        "id": "nVCJGESDXEjr"
      },
      "outputs": [],
      "source": [
        "# Initialize a neural network\n",
        "def initialize_network(n_inputs, n_hidden, n_outputs):\n",
        "    network = list()\n",
        "    # Create the hidden layer with random weights\n",
        "    hidden_layer = [{'weights': [random() for i in range(n_inputs + 1)]} for i in range(n_hidden)]\n",
        "    network.append(hidden_layer)\n",
        "    # Create the output layer with random weights\n",
        "    output_layer = [{'weights': [random() for i in range(n_hidden + 1)]} for i in range(n_outputs)]\n",
        "    network.append(output_layer)\n",
        "    return network\n"
      ]
    },
    {
      "cell_type": "code",
      "source": [
        "# Calculate neuron activation for an input\n",
        "def activate(weights, inputs):\n",
        "    activation = weights[-1]\n",
        "    for i in range(len(weights) - 1):\n",
        "        activation += weights[i] * inputs[i]\n",
        "    return activation\n",
        "\n",
        "# Transfer neuron activation using sigmoid function\n",
        "def transfer(activation):\n",
        "    return 1.0 / (1.0 + exp(-activation))\n"
      ],
      "metadata": {
        "id": "Ixybw3f-aNIM"
      },
      "execution_count": null,
      "outputs": []
    },
    {
      "cell_type": "code",
      "source": [
        "# Forward propagate input to a network output\n",
        "def forward_propagate(network, row):\n",
        "    inputs = row\n",
        "    for layer in network:\n",
        "        new_inputs = []\n",
        "        for neuron in layer:\n",
        "            activation = activate(neuron['weights'], inputs)\n",
        "            neuron['output'] = transfer(activation)\n",
        "            new_inputs.append(neuron['output'])\n",
        "        inputs = new_inputs\n",
        "    return inputs\n"
      ],
      "metadata": {
        "id": "fIm_pNq2kb8H"
      },
      "execution_count": null,
      "outputs": []
    },
    {
      "cell_type": "code",
      "source": [
        "# Calculate the derivative of a neuron output\n",
        "def transfer_derivative(output):\n",
        "    return output * (1.0 - output)\n"
      ],
      "metadata": {
        "id": "xi_TQBBOb83n"
      },
      "execution_count": null,
      "outputs": []
    },
    {
      "cell_type": "code",
      "source": [
        "# Backpropagate error and store in neurons\n",
        "def backward_propagate_error(network, expected):\n",
        "    for i in reversed(range(len(network))):\n",
        "        layer = network[i]\n",
        "        errors = list()\n",
        "\n",
        "        if i != len(network) - 1:\n",
        "            for j in range(len(layer)):\n",
        "                error = 0.0\n",
        "                for neuron in network[i + 1]:\n",
        "                    error += (neuron['weights'][j] * neuron['delta'])\n",
        "                errors.append(error)\n",
        "        else:\n",
        "            for j in range(len(layer)):\n",
        "                neuron = layer[j]\n",
        "                errors.append(neuron['output'] - expected[j])\n",
        "\n",
        "        for j in range(len(layer)):\n",
        "            neuron = layer[j]\n",
        "            neuron['delta'] = errors[j] * transfer_derivative(neuron['output'])\n"
      ],
      "metadata": {
        "id": "piZ0mJ1Ycc60"
      },
      "execution_count": null,
      "outputs": []
    },
    {
      "cell_type": "code",
      "source": [
        "# Update network weights with error\n",
        "def update_weights(network, row, l_rate):\n",
        "    for i in range(len(network)):\n",
        "        inputs = row[:-1]\n",
        "        if i != 0:\n",
        "            inputs = [neuron['output'] for neuron in network[i - 1]]\n",
        "        for neuron in network[i]:\n",
        "            for j in range(len(inputs)):\n",
        "                neuron['weights'][j] += l_rate * neuron['delta'] * inputs[j]\n",
        "            neuron['weights'][-1] += l_rate * neuron['delta']\n"
      ],
      "metadata": {
        "id": "OT9Uv8KHdg7a"
      },
      "execution_count": null,
      "outputs": []
    },
    {
      "cell_type": "code",
      "source": [
        "# Train a network for a fixed number of epochs\n",
        "def train_network(network, train, l_rate, n_epoch, n_outputs):\n",
        "    for epoch in range(n_epoch):\n",
        "        sum_error = 0\n",
        "        for row in train:\n",
        "            outputs = forward_propagate(network, row)\n",
        "            expected = [0 for i in range(n_outputs)]\n",
        "            expected[row[-1]] = 1\n",
        "            sum_error += sum([(expected[i] - outputs[i]) ** 2 for i in range(len(expected))])\n",
        "            backward_propagate_error(network, expected)\n",
        "            update_weights(network, row, l_rate)\n",
        "        print('>epoch=%d, lrate=%.3f, error=%.3f' % (epoch, l_rate, sum_error))\n"
      ],
      "metadata": {
        "id": "gT9Jq52pd-Oc"
      },
      "execution_count": null,
      "outputs": []
    },
    {
      "cell_type": "code",
      "source": [
        "# Seed for reproducibility\n",
        "seed(2)\n",
        "\n",
        "# Define the dataset for training\n",
        "dataset = [\n",
        "    [2.7810836, 2.550537003, 0],\n",
        "    [1.465489372, 2.362125076, 0],\n",
        "    [3.396561688, 4.400293529, 0],\n",
        "    [1.38807019, 1.850220317, 0],\n",
        "    [3.06407232, 3.005305973, 0],\n",
        "    [7.627531214, 2.759262235, 1],\n",
        "    [5.332441248, 2.088626775, 1],\n",
        "    [6.922596716, 1.77106367, 1],\n",
        "    [8.675418651, -0.242068655, 1],\n",
        "    [7.673756466, 3.508563011, 1]\n",
        "]\n",
        "\n",
        "# Display the input dataset\n",
        "print(\"\\nThe input Data Set:\\n\", dataset)\n",
        "\n",
        "# Get the number of inputs\n",
        "n_inputs = len(dataset[0]) - 1\n",
        "print(\"\\nNumber of Inputs:\\n\", n_inputs)\n",
        "\n",
        "# Get the number of unique outputs\n",
        "n_outputs = len(set([row[-1] for row in dataset]))\n",
        "print(\"\\nNumber of Outputs:\\n\", n_outputs)\n",
        "\n",
        "# Initialize the neural network\n",
        "network = initialize_network(n_inputs, 2, n_outputs)\n",
        "\n",
        "# Train the network\n",
        "train_network(network, dataset, 0.5, 20, n_outputs)\n",
        "\n",
        "# Display the final neural network\n",
        "print(\"\\nFinal Neural Network:\")\n",
        "i = 1\n",
        "for layer in network:\n",
        "    j = 1\n",
        "    for sub in layer:\n",
        "        print(\"\\nLayer[%d] Node[%d]:\\n\" % (i, j), sub)\n",
        "        j += 1\n",
        "    i += 1\n"
      ],
      "metadata": {
        "colab": {
          "base_uri": "https://localhost:8080/"
        },
        "id": "Me7gd921kntp",
        "outputId": "ed4f3522-4f01-4e73-aefd-cb8695ff6a99"
      },
      "execution_count": null,
      "outputs": [
        {
          "output_type": "stream",
          "name": "stdout",
          "text": [
            "\n",
            "The input Data Set:\n",
            " [[2.7810836, 2.550537003, 0], [1.465489372, 2.362125076, 0], [3.396561688, 4.400293529, 0], [1.38807019, 1.850220317, 0], [3.06407232, 3.005305973, 0], [7.627531214, 2.759262235, 1], [5.332441248, 2.088626775, 1], [6.922596716, 1.77106367, 1], [8.675418651, -0.242068655, 1], [7.673756466, 3.508563011, 1]]\n",
            "\n",
            "Number of Inputs:\n",
            " 2\n",
            "\n",
            "Number of Outputs:\n",
            " 2\n",
            ">epoch=0, lrate=0.500, error=7.317\n",
            ">epoch=1, lrate=0.500, error=8.334\n",
            ">epoch=2, lrate=0.500, error=8.867\n",
            ">epoch=3, lrate=0.500, error=9.162\n",
            ">epoch=4, lrate=0.500, error=9.341\n",
            ">epoch=5, lrate=0.500, error=9.460\n",
            ">epoch=6, lrate=0.500, error=9.544\n",
            ">epoch=7, lrate=0.500, error=9.606\n",
            ">epoch=8, lrate=0.500, error=9.654\n",
            ">epoch=9, lrate=0.500, error=9.691\n",
            ">epoch=10, lrate=0.500, error=9.722\n",
            ">epoch=11, lrate=0.500, error=9.747\n",
            ">epoch=12, lrate=0.500, error=9.768\n",
            ">epoch=13, lrate=0.500, error=9.786\n",
            ">epoch=14, lrate=0.500, error=9.801\n",
            ">epoch=15, lrate=0.500, error=9.814\n",
            ">epoch=16, lrate=0.500, error=9.826\n",
            ">epoch=17, lrate=0.500, error=9.836\n",
            ">epoch=18, lrate=0.500, error=9.845\n",
            ">epoch=19, lrate=0.500, error=9.854\n",
            "\n",
            "Final Neural Network:\n",
            "\n",
            "Layer[1] Node[1]:\n",
            " {'weights': [0.9901265721131289, 0.9909955615390343, 0.07692121365516069], 'output': 0.9999856518516571, 'delta': 1.7891927213130585e-07}\n",
            "\n",
            "Layer[1] Node[2]:\n",
            " {'weights': [0.3357337074234834, 0.9476604581077698, 0.7994779223367308], 'output': 0.9987709865261445, 'delta': 1.1893780499814521e-05}\n",
            "\n",
            "Layer[2] Node[1]:\n",
            " {'weights': [1.8081734990192688, 1.4081223570219554, 1.742797115669545], 'output': 0.992944806589127, 'delta': 0.006955993080315464}\n",
            "\n",
            "Layer[2] Node[2]:\n",
            " {'weights': [1.8210495437441836, 1.7751146118608234, 1.3912782899155176], 'output': 0.9932087330538035, 'delta': -4.5808084628559354e-05}\n"
          ]
        }
      ]
    },
    {
      "cell_type": "code",
      "source": [
        "import matplotlib.pyplot as plt\n",
        "from math import exp\n",
        "from random import seed\n",
        "from random import random\n",
        "\n",
        "# ... (previous code remains unchanged)\n",
        "\n",
        "# Train a network for a fixed number of epochs\n",
        "def train_network(network, train, l_rate, n_epoch, n_outputs):\n",
        "    errors = []  # Store training errors for plotting\n",
        "\n",
        "    for epoch in range(n_epoch):\n",
        "        sum_error = 0\n",
        "        for row in train:\n",
        "            outputs = forward_propagate(network, row)\n",
        "            expected = [0 for i in range(n_outputs)]\n",
        "            expected[row[-1]] = 1\n",
        "            sum_error += sum([(expected[i] - outputs[i]) ** 2 for i in range(len(expected))])\n",
        "            backward_propagate_error(network, expected)\n",
        "            update_weights(network, row, l_rate)\n",
        "        errors.append(sum_error)\n",
        "        print('>epoch=%d, lrate=%.3f, error=%.3f' % (epoch, l_rate, sum_error))\n",
        "\n",
        "    # Plotting the training errors\n",
        "    plt.plot(range(n_epoch), errors, marker='o')\n",
        "    plt.title('Training Error Over Epochs')\n",
        "    plt.xlabel('Epochs')\n",
        "    plt.ylabel('Error')\n",
        "    plt.show()\n",
        "\n",
        "# ... (rest of the code remains unchanged)\n",
        "\n",
        "# Train the network and plot the training errors\n",
        "train_network(network, dataset, 0.5, 20, n_outputs)\n"
      ],
      "metadata": {
        "colab": {
          "base_uri": "https://localhost:8080/",
          "height": 819
        },
        "id": "vk9MSu7QljR1",
        "outputId": "ce664d08-9ff0-48ad-9406-5f2795661621"
      },
      "execution_count": null,
      "outputs": [
        {
          "output_type": "stream",
          "name": "stdout",
          "text": [
            ">epoch=0, lrate=0.500, error=9.861\n",
            ">epoch=1, lrate=0.500, error=9.868\n",
            ">epoch=2, lrate=0.500, error=9.874\n",
            ">epoch=3, lrate=0.500, error=9.879\n",
            ">epoch=4, lrate=0.500, error=9.884\n",
            ">epoch=5, lrate=0.500, error=9.889\n",
            ">epoch=6, lrate=0.500, error=9.893\n",
            ">epoch=7, lrate=0.500, error=9.897\n",
            ">epoch=8, lrate=0.500, error=9.901\n",
            ">epoch=9, lrate=0.500, error=9.905\n",
            ">epoch=10, lrate=0.500, error=9.908\n",
            ">epoch=11, lrate=0.500, error=9.911\n",
            ">epoch=12, lrate=0.500, error=9.914\n",
            ">epoch=13, lrate=0.500, error=9.916\n",
            ">epoch=14, lrate=0.500, error=9.919\n",
            ">epoch=15, lrate=0.500, error=9.921\n",
            ">epoch=16, lrate=0.500, error=9.923\n",
            ">epoch=17, lrate=0.500, error=9.926\n",
            ">epoch=18, lrate=0.500, error=9.928\n",
            ">epoch=19, lrate=0.500, error=9.929\n"
          ]
        },
        {
          "output_type": "display_data",
          "data": {
            "text/plain": [
              "<Figure size 640x480 with 1 Axes>"
            ],
            "image/png": "[encoded data removed]"
          },
          "metadata": {}
        }
      ]
    },
    {
      "cell_type": "code",
      "source": [],
      "metadata": {
        "id": "h5U2ho4ZlkAo"
      },
      "execution_count": null,
      "outputs": []
    }
  ]
}